{
  "nbformat": 4,
  "nbformat_minor": 0,
  "metadata": {
    "colab": {
      "provenance": []
    },
    "kernelspec": {
      "name": "python3",
      "display_name": "Python 3"
    },
    "language_info": {
      "name": "python"
    }
  },
  "cells": [
    {
      "cell_type": "code",
      "source": [
        "from google.colab import drive\n",
        "drive.mount('/content/drive')\n",
        "# Install necessary libraries\n",
        "!pip install gensim xgboost pandas openpyxl\n",
        "\n",
        "import pandas as pd\n",
        "import numpy as np\n",
        "import matplotlib.pyplot as plt\n",
        "import seaborn as sns\n",
        "import joblib\n",
        "\n",
        "from sklearn.feature_extraction.text import TfidfVectorizer\n",
        "from sklearn.naive_bayes import MultinomialNB\n",
        "from sklearn.model_selection import train_test_split\n",
        "from sklearn.metrics import accuracy_score, classification_report, confusion_matrix\n",
        "\n",
        "from gensim.models import Word2Vec\n",
        "import xgboost as xgb\n",
        "\n",
        "# Load dataset from Google Drive\n",
        "dataset_path = \"/content/drive/MyDrive/suspicious Bangla text.xlsx\"\n",
        "df = pd.read_excel(dataset_path)\n",
        "\n",
        "# Preprocess Text\n",
        "def preprocess_text(text):\n",
        "    if isinstance(text, str):\n",
        "        text = text.strip()\n",
        "        text = text.replace(\"।\", \"\")  # Remove Bengali full stop\n",
        "    else:\n",
        "        text = \"\"\n",
        "    return text\n",
        "\n",
        "df['Text'] = df['Text'].apply(preprocess_text)\n",
        "\n",
        "# Split data\n",
        "X_train, X_test, y_train, y_test = train_test_split(df['Text'], df['binary_label'], test_size=0.2, random_state=42, stratify=df['binary_label'])\n",
        "\n",
        "### 🔹 Model 1: TF-IDF + Naïve Bayes ###\n",
        "vectorizer = TfidfVectorizer(ngram_range=(1, 2), max_features=10000)\n",
        "X_train_tfidf = vectorizer.fit_transform(X_train)\n",
        "X_test_tfidf = vectorizer.transform(X_test)\n",
        "\n",
        "nb_model = MultinomialNB()\n",
        "nb_model.fit(X_train_tfidf, y_train)\n",
        "\n",
        "y_pred_nb = nb_model.predict_proba(X_test_tfidf)[:, 1]  # Get probabilities\n",
        "\n",
        "### 🔹 Model 2: Word2Vec + XGBoost ###\n",
        "# Tokenize text for Word2Vec\n",
        "X_train_tokens = [text.split() for text in X_train]\n",
        "X_test_tokens = [text.split() for text in X_test]\n",
        "\n",
        "word2vec_model = Word2Vec(sentences=X_train_tokens, vector_size=100, window=5, min_count=1, workers=4)\n",
        "word_vectors = word2vec_model.wv\n",
        "\n",
        "# Convert sentences into averaged Word2Vec vectors\n",
        "def get_word2vec_features(tokens, word_vectors, vector_size=100):\n",
        "    features = np.zeros((len(tokens), vector_size))\n",
        "    for i, words in enumerate(tokens):\n",
        "        valid_words = [word_vectors[word] for word in words if word in word_vectors]\n",
        "        if valid_words:\n",
        "            features[i] = np.mean(valid_words, axis=0)\n",
        "    return features\n",
        "\n",
        "X_train_w2v = get_word2vec_features(X_train_tokens, word_vectors)\n",
        "X_test_w2v = get_word2vec_features(X_test_tokens, word_vectors)\n",
        "\n",
        "xgb_model = xgb.XGBClassifier(use_label_encoder=False, eval_metric='logloss')\n",
        "xgb_model.fit(X_train_w2v, y_train)\n",
        "\n",
        "y_pred_xgb = xgb_model.predict_proba(X_test_w2v)[:, 1]  # Get probabilities\n",
        "\n",
        "### 🔹 Ensemble: Soft Voting ###\n",
        "y_pred_ensemble = (y_pred_nb + y_pred_xgb) / 2  # Average probabilities\n",
        "\n",
        "# Convert probabilities to final predictions\n",
        "y_pred_final = (y_pred_ensemble > 0.5).astype(int)\n",
        "\n",
        "# Evaluate Performance\n",
        "accuracy = accuracy_score(y_test, y_pred_final)\n",
        "print(\"\\nEnsemble Model Accuracy:\", accuracy)\n",
        "\n",
        "print(\"\\nClassification Report:\")\n",
        "print(classification_report(y_test, y_pred_final))\n",
        "\n",
        "# Confusion Matrix\n",
        "conf_matrix = confusion_matrix(y_test, y_pred_final)\n",
        "plt.figure(figsize=(8, 6))\n",
        "sns.heatmap(conf_matrix, annot=True, fmt='d', cmap='Blues', xticklabels=['unsuspicious', 'suspicious'], yticklabels=['unsuspicious', 'suspicious'])\n",
        "plt.title('Confusion Matrix')\n",
        "plt.xlabel('Predicted')\n",
        "plt.ylabel('Actual')\n",
        "plt.show()\n",
        "\n",
        "# Save models\n",
        "joblib.dump(nb_model, \"/content/drive/MyDrive/naive_bayes_model.pkl\")\n",
        "joblib.dump(vectorizer, \"/content/drive/MyDrive/tfidf_vectorizer.pkl\")\n",
        "joblib.dump(xgb_model, \"/content/drive/MyDrive/xgboost_model.pkl\")\n",
        "joblib.dump(word2vec_model, \"/content/drive/MyDrive/word2vec_model.pkl\")\n",
        "\n",
        "print(\"\\nModels saved successfully in Drive.\")\n",
        "\n",
        "# Prediction Function\n",
        "def predict_text(new_text):\n",
        "    new_text = preprocess_text(new_text)\n",
        "\n",
        "    # TF-IDF + Naïve Bayes Prediction\n",
        "    new_tfidf_vector = vectorizer.transform([new_text])\n",
        "    prob_nb = nb_model.predict_proba(new_tfidf_vector)[:, 1]\n",
        "\n",
        "    # Word2Vec + XGBoost Prediction\n",
        "    new_tokens = new_text.split()\n",
        "    new_w2v_vector = np.mean([word_vectors[word] for word in new_tokens if word in word_vectors], axis=0)\n",
        "    new_w2v_vector = new_w2v_vector.reshape(1, -1)\n",
        "    prob_xgb = xgb_model.predict_proba(new_w2v_vector)[:, 1]\n",
        "\n",
        "    # Ensemble Soft Voting\n",
        "    final_prob = (prob_nb + prob_xgb) / 2\n",
        "    return \"suspicious\" if final_prob > 0.5 else \"unsuspicious\"\n",
        "\n",
        "print(\"\\nExample Prediction:\", predict_text(\"এই বাক্য সন্দেহজনক\"))\n"
      ],
      "metadata": {
        "id": "qoQ9iOypQVPN",
        "outputId": "4385e858-5404-4986-fe2b-f9f63eb884e6",
        "colab": {
          "base_uri": "https://localhost:8080/",
          "height": 1000
        }
      },
      "execution_count": null,
      "outputs": [
        {
          "output_type": "stream",
          "name": "stdout",
          "text": [
            "Drive already mounted at /content/drive; to attempt to forcibly remount, call drive.mount(\"/content/drive\", force_remount=True).\n",
            "Requirement already satisfied: gensim in /usr/local/lib/python3.11/dist-packages (4.3.3)\n",
            "Requirement already satisfied: xgboost in /usr/local/lib/python3.11/dist-packages (2.1.4)\n",
            "Requirement already satisfied: pandas in /usr/local/lib/python3.11/dist-packages (2.2.2)\n",
            "Requirement already satisfied: openpyxl in /usr/local/lib/python3.11/dist-packages (3.1.5)\n",
            "Requirement already satisfied: numpy<2.0,>=1.18.5 in /usr/local/lib/python3.11/dist-packages (from gensim) (1.26.4)\n",
            "Requirement already satisfied: scipy<1.14.0,>=1.7.0 in /usr/local/lib/python3.11/dist-packages (from gensim) (1.13.1)\n",
            "Requirement already satisfied: smart-open>=1.8.1 in /usr/local/lib/python3.11/dist-packages (from gensim) (7.1.0)\n",
            "Requirement already satisfied: nvidia-nccl-cu12 in /usr/local/lib/python3.11/dist-packages (from xgboost) (2.21.5)\n",
            "Requirement already satisfied: python-dateutil>=2.8.2 in /usr/local/lib/python3.11/dist-packages (from pandas) (2.8.2)\n",
            "Requirement already satisfied: pytz>=2020.1 in /usr/local/lib/python3.11/dist-packages (from pandas) (2025.1)\n",
            "Requirement already satisfied: tzdata>=2022.7 in /usr/local/lib/python3.11/dist-packages (from pandas) (2025.1)\n",
            "Requirement already satisfied: et-xmlfile in /usr/local/lib/python3.11/dist-packages (from openpyxl) (2.0.0)\n",
            "Requirement already satisfied: six>=1.5 in /usr/local/lib/python3.11/dist-packages (from python-dateutil>=2.8.2->pandas) (1.17.0)\n",
            "Requirement already satisfied: wrapt in /usr/local/lib/python3.11/dist-packages (from smart-open>=1.8.1->gensim) (1.17.2)\n"
          ]
        },
        {
          "output_type": "stream",
          "name": "stderr",
          "text": [
            "/usr/local/lib/python3.11/dist-packages/xgboost/core.py:158: UserWarning: [10:56:30] WARNING: /workspace/src/learner.cc:740: \n",
            "Parameters: { \"use_label_encoder\" } are not used.\n",
            "\n",
            "  warnings.warn(smsg, UserWarning)\n"
          ]
        },
        {
          "output_type": "stream",
          "name": "stdout",
          "text": [
            "\n",
            "Ensemble Model Accuracy: 0.8047937312744872\n",
            "\n",
            "Classification Report:\n",
            "              precision    recall  f1-score   support\n",
            "\n",
            "           0       0.81      0.85      0.83      4775\n",
            "           1       0.80      0.75      0.78      3903\n",
            "\n",
            "    accuracy                           0.80      8678\n",
            "   macro avg       0.80      0.80      0.80      8678\n",
            "weighted avg       0.80      0.80      0.80      8678\n",
            "\n"
          ]
        },
        {
          "output_type": "display_data",
          "data": {
            "text/plain": [
              "<Figure size 800x600 with 2 Axes>"
            ],
            "image/png": "[encoded data removed]"
          },
          "metadata": {}
        },
        {
          "output_type": "stream",
          "name": "stdout",
          "text": [
            "\n",
            "Models saved successfully in Drive.\n",
            "\n",
            "Example Prediction: suspicious\n"
          ]
        }
      ]
    }
  ]
}